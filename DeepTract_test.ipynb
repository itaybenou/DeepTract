{
 "cells": [
  {
   "cell_type": "markdown",
   "metadata": {},
   "source": [
    "## Load and pre-process DWI data"
   ]
  },
  {
   "cell_type": "code",
   "execution_count": null,
   "metadata": {},
   "outputs": [],
   "source": [
    "import sys\n",
    "import numpy as np\n",
    "sys.path.append(\"./utils\")\n",
    "from data_handling import *"
   ]
  },
  {
   "cell_type": "code",
   "execution_count": null,
   "metadata": {},
   "outputs": [],
   "source": [
    "dwi_path = \"./data/dwi\"\n",
    "mask_path = \"./data/mask\"\n",
    "\n",
    "curr_path = os.getcwd()\n",
    "dwi_file = get_file_path(curr_path, dwi_path, \"*.nii*\")\n",
    "mask_file = get_file_path(curr_path, mask_path, \"*.nii*\")"
   ]
  },
  {
   "cell_type": "code",
   "execution_count": null,
   "metadata": {},
   "outputs": [],
   "source": [
    "dwi_data = nib.load(dwi_file)\n",
    "dwi = dwi_data.get_data().astype(\"float32\")\n",
    "mask = nib.load(mask_file).get_data()"
   ]
  },
  {
   "cell_type": "code",
   "execution_count": null,
   "metadata": {},
   "outputs": [],
   "source": [
    "from dipy.io import read_bvals_bvecs\n",
    "\n",
    "bval_file = get_file_path(curr_path, dwi_path, \"*.bvals\")\n",
    "bvec_file = get_file_path(curr_path, dwi_path, \"*.bvecs\")\n",
    "\n",
    "bvals, bvecs = read_bvals_bvecs(bval_file, bvec_file)"
   ]
  },
  {
   "cell_type": "code",
   "execution_count": null,
   "metadata": {},
   "outputs": [],
   "source": [
    "resampled_dwi = resample_dwi(mask_dwi(dwi, mask), bvals, bvecs, directions=None, sh_order=8, smooth=0.006)\n",
    "resampled_dwi = 255 * mask_dwi(resampled_dwi, mask)"
   ]
  },
  {
   "cell_type": "code",
   "execution_count": null,
   "metadata": {},
   "outputs": [],
   "source": [
    "from train_utils import *"
   ]
  },
  {
   "cell_type": "code",
   "execution_count": null,
   "metadata": {},
   "outputs": [],
   "source": [
    "mask_path = \"./data/WM_mask\"\n",
    "wm_mask_file = get_file_path(curr_path, mask_path, \"*.nii*\")\n",
    "# wm_mask = nib.load(mask_file).get_data()\n",
    "wm_mask = nib.load(wm_mask_file).get_data()[::2,::2,::2]\n",
    "\n",
    "dwi_means = calc_mean_dwi(resampled_dwi, wm_mask)"
   ]
  },
  {
   "cell_type": "markdown",
   "metadata": {},
   "source": [
    "## Load trained network"
   ]
  },
  {
   "cell_type": "code",
   "execution_count": null,
   "metadata": {},
   "outputs": [],
   "source": [
    "from keras.models import model_from_json"
   ]
  },
  {
   "cell_type": "code",
   "execution_count": null,
   "metadata": {},
   "outputs": [],
   "source": [
    "trained_model_path = \"./trained_model\"\n",
    "json_file = get_file_path(curr_path, trained_model_path, \"*.json*\")\n",
    "weights_file = get_file_path(curr_path, trained_model_path, \"*.h*\")"
   ]
  },
  {
   "cell_type": "code",
   "execution_count": null,
   "metadata": {},
   "outputs": [],
   "source": [
    "model_json = open(json_file, 'r')\n",
    "loaded_model_json = model_json.read()\n",
    "model_json.close()\n",
    "loaded_model = model_from_json(loaded_model_json)\n",
    "loaded_model.load_weights(weights_file)"
   ]
  },
  {
   "cell_type": "markdown",
   "metadata": {},
   "source": [
    "# Run Tractography"
   ]
  },
  {
   "cell_type": "code",
   "execution_count": null,
   "metadata": {},
   "outputs": [],
   "source": [
    "from test_utils import *"
   ]
  },
  {
   "cell_type": "markdown",
   "metadata": {},
   "source": [
    "#### Randomize seed points within WM mask"
   ]
  },
  {
   "cell_type": "code",
   "execution_count": null,
   "metadata": {},
   "outputs": [],
   "source": [
    "mask_path = \"./data/WM_mask\"\n",
    "wm_mask_file = get_file_path(curr_path, mask_path, \"*.nii*\")\n",
    "# wm_mask = nib.load(mask_file).get_data()\n",
    "wm_mask = nib.load(wm_mask_file).get_data()"
   ]
  },
  {
   "cell_type": "code",
   "execution_count": null,
   "metadata": {},
   "outputs": [],
   "source": [
    "N_seeds = 400000 # set number of seed points\n",
    "N_time_steps = loaded_model.input_shape[1]\n",
    "\n",
    "Loc_seeds = init_seeds(wm_mask,N_seeds,N_time_steps)\n",
    "\n",
    "# partition into batches of size 500\n",
    "repetitions = int(N_seeds/500)\n",
    "if np.mod(N_seeds,500) > 0 :\n",
    "    repetitions += 1\n",
    "\n",
    "Loc_seeds_list = []\n",
    "for i in range(repetitions):\n",
    "    Loc_seeds_list.append(Loc_seeds[i*500:i*500+500,:])\n",
    "    \n",
    "Loc_seeds = zero_pad_seeds(Loc_seeds_list[0],len(Loc_seeds_list[0]),N_time_steps)\n",
    "DW_seeds = np.zeros((Loc_seeds.shape[0],Loc_seeds.shape[1],len(dwi_means)))\n",
    "DW_seeds[:,0,:] = eval_volume_at_3d_coordinates(resampled_dwi, Loc_seeds[:,0,:]) - dwi_means"
   ]
  },
  {
   "cell_type": "markdown",
   "metadata": {},
   "source": [
    "#### Set tracking parameters:"
   ]
  },
  {
   "cell_type": "code",
   "execution_count": null,
   "metadata": {},
   "outputs": [],
   "source": [
    "tractography_type = 'deterministic' # Either 'deterministic' or 'probabilistic'\n",
    "step_size = 0.5\n",
    "max_angle = 60 #in degrees\n",
    "max_length = 200 # in mm\n",
    "min_length = 20 # in mm\n",
    "total_iters = N_time_steps\n",
    "voxel_size = [2,2,2] #voxel dimensions in mm\n",
    "\n",
    "# Max entropy threshold:\n",
    "t_vec = np.arange(total_iters)\n",
    "a, b, c = 3, 10, 4.5\n",
    "entropy_th = a*np.exp(-t_vec/b) + c\n",
    "\n",
    "# Auxiliary variables:\n",
    "out_fibers = list( np.expand_dims(Loc_seeds[i,0,:], axis=0) for i in range(Loc_seeds.shape[0]) )\n",
    "count_map = np.zeros_like(resampled_dwi[:,:,:,0])"
   ]
  },
  {
   "cell_type": "markdown",
   "metadata": {},
   "source": [
    "####  Streamline Tractography"
   ]
  },
  {
   "cell_type": "code",
   "execution_count": null,
   "metadata": {},
   "outputs": [],
   "source": [
    "from itertools import compress\n",
    "from scipy.stats import entropy\n",
    "\n",
    "sphere724 = get_sphere('repulsion724')\n",
    "angles724 = calc_angles_matrix(sphere724)\n",
    "angles725 = np.hstack( (np.vstack((angles724,np.zeros(angles724.shape[1]))), np.zeros((angles724.shape[0]+1,1))) )\n",
    "streamlines_list = []\n",
    "odf_list = []\n",
    "odf_array = np.zeros((3,total_iters,))\n",
    "logits_list = []\n",
    "\n",
    "dilated_wm_mask = mask_dilate(wm_mask)\n",
    "ang_mat = calc_angles_matrix(sphere724)\n",
    "\n",
    "for reps in range(repetitions):\n",
    "    next_positions = Loc_seeds[:,0,:]\n",
    "    EoF_mask = np.zeros(len(DW_seeds), dtype=bool)\n",
    "    entropy_mask = np.zeros(len(DW_seeds), dtype=bool)\n",
    "    angle_mask = np.zeros(len(DW_seeds), dtype=bool)\n",
    "    inWM_mask = np.ones(len(DW_seeds), dtype=bool)\n",
    "    print('Processing batch number ', reps+1, ' out of ', repetitions)\n",
    "    \n",
    "    for t in range(total_iters):\n",
    "        print('tracking step number ', t)\n",
    "\n",
    "        pdf_pred = loaded_model.predict_on_batch(DW_seeds)\n",
    "        if tractography_type == 'deterministic':\n",
    "            direction_idx_pred = argmax_from_pdf(pdf_pred[:,t,:])\n",
    "        else:\n",
    "            direction_idx_pred = sample_from_pdf(pdf_pred[:,t,:],1)[:,0]\n",
    "\n",
    "        if t > 0:\n",
    "            d_angles = np.array([angles725[direction_idx_pred[p],direction_idx_previous[p]] for p in range(len(direction_idx_pred))])\n",
    "            angle_mask = np.logical_or(angle_mask, d_angles > max_angle)\n",
    "        direction_idx_previous = direction_idx_pred\n",
    "\n",
    "        curr_entropys = -np.sum( pdf_pred[:,t,:] * np.log(pdf_pred[:,t,:]+0.000000001) , axis=1)\n",
    "        entropy_mask = np.logical_or(entropy_mask, curr_entropys > entropy_th[t])\n",
    "        direction_vec_pred = idx2direction(direction_idx_pred, sphere724)\n",
    "\n",
    "        EoF_mask = np.logical_or(EoF_mask, direction_idx_pred==sphere724.x.shape[0])\n",
    "        next_positions = next_positions + step_size*direction_vec_pred*np.expand_dims(1*(~EoF_mask),axis=1)*np.expand_dims(1*(~entropy_mask),axis=1)*np.expand_dims(1*(~angle_mask),axis=1)*np.expand_dims(1*(inWM_mask),axis=1)\n",
    "        inWM_mask = np.logical_and(inWM_mask, is_within_mask(2*next_positions, dilated_wm_mask).astype(bool))\n",
    "\n",
    "        valids_mask = np.logical_and(np.logical_and(np.logical_and(~EoF_mask,~entropy_mask), ~angle_mask),inWM_mask)\n",
    "        if sum(1*valids_mask) == 0:\n",
    "            break\n",
    "        count_map[(next_positions[valids_mask,0]).astype(int),(next_positions[valids_mask,1]).astype(int),(next_positions[valids_mask,2]).astype(int)] += 1\n",
    "        for k in list(compress(range(len(valids_mask)), valids_mask)):\n",
    "            out_fibers[k] = np.vstack((out_fibers[k],next_positions[k,:]))\n",
    "\n",
    "        if t+1 < DW_seeds.shape[1]:\n",
    "            DW_seeds[:,t+1,:] = eval_volume_at_3d_coordinates(resampled_dwi, next_positions) - dwi_means\n",
    "    \n",
    "    print('\\n')\n",
    "    lengths_vec = fiber_lengths(out_fibers, [2,2,2])\n",
    "    filtered_out_fibers = [out_fibers[e] for e in range(len(out_fibers)) if np.logical_and(lengths_vec[e]>min_length, lengths_vec[e]<max_length)]\n",
    "    streamlines_list.append(filtered_out_fibers)\n",
    "    out_fibers = []\n",
    "\n",
    "    if reps+1 < repetitions:\n",
    "        Loc_seeds = zero_pad_seeds(Loc_seeds_list[reps+1],len(Loc_seeds_list[reps+1]),N_time_steps)\n",
    "        out_fibers = list( np.expand_dims(Loc_seeds[i,0,:], axis=0) for i in range(Loc_seeds.shape[0]) )\n",
    "        DW_seeds = np.zeros((Loc_seeds.shape[0],Loc_seeds.shape[1],len(dwi_means)))\n",
    "        DW_seeds[:,0,:] = eval_volume_at_3d_coordinates(resampled_dwi, Loc_seeds[:,0,:]) - dwi_means"
   ]
  },
  {
   "cell_type": "code",
   "execution_count": null,
   "metadata": {},
   "outputs": [],
   "source": [
    "out_tractogram = output_tractogram(all_fibers)"
   ]
  },
  {
   "cell_type": "markdown",
   "metadata": {},
   "source": [
    "#### Visualize tractogram"
   ]
  },
  {
   "cell_type": "code",
   "execution_count": null,
   "metadata": {},
   "outputs": [],
   "source": [
    "import matplotlib.pyplot as plt\n",
    "from mpl_toolkits.mplot3d import Axes3D\n",
    "%matplotlib inline\n",
    "\n",
    "fig = plt.figure(5)\n",
    "ax = fig.add_subplot(111, projection='3d')\n",
    "for streamline in out_tractogram:\n",
    "\n",
    "    x = streamline[:,0]\n",
    "    y = streamline[:,1]\n",
    "    z = streamline[:,2]\n",
    "\n",
    "    ax.plot(streamline[:,0], streamline[:,1], streamline[:,2])\n",
    "\n",
    "ax.set_xlabel('X axis')\n",
    "ax.set_ylabel('Y axis')\n",
    "ax.set_zlabel('Z axis')\n",
    "ax.view_init(elev=0., azim=0)"
   ]
  }
 ],
 "metadata": {
  "kernelspec": {
   "display_name": "Python 3",
   "language": "python",
   "name": "python3"
  },
  "language_info": {
   "codemirror_mode": {
    "name": "ipython",
    "version": 3
   },
   "file_extension": ".py",
   "mimetype": "text/x-python",
   "name": "python",
   "nbconvert_exporter": "python",
   "pygments_lexer": "ipython3",
   "version": "3.6.6"
  }
 },
 "nbformat": 4,
 "nbformat_minor": 2
}
