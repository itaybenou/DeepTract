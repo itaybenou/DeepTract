{
 "cells": [
  {
   "cell_type": "markdown",
   "metadata": {},
   "source": [
    "## Load and pre-process DWI data"
   ]
  },
  {
   "cell_type": "code",
   "execution_count": 1,
   "metadata": {},
   "outputs": [],
   "source": [
    "import sys\n",
    "import numpy as np\n",
    "sys.path.append(\"./utils\")\n",
    "from data_handling import *"
   ]
  },
  {
   "cell_type": "code",
   "execution_count": 2,
   "metadata": {},
   "outputs": [],
   "source": [
    "dwi_path = \"./data/dwi\"\n",
    "mask_path = \"./data/mask\"\n",
    "\n",
    "curr_path = os.getcwd()\n",
    "dwi_file = get_file_path(curr_path, dwi_path, \"*.nii*\")\n",
    "mask_file = get_file_path(curr_path, mask_path, \"*.nii*\")"
   ]
  },
  {
   "cell_type": "code",
   "execution_count": 3,
   "metadata": {},
   "outputs": [],
   "source": [
    "dwi_data = nib.load(dwi_file)\n",
    "dwi = dwi_data.get_data().astype(\"float32\")\n",
    "mask = nib.load(mask_file).get_data()"
   ]
  },
  {
   "cell_type": "code",
   "execution_count": 4,
   "metadata": {},
   "outputs": [],
   "source": [
    "from dipy.io import read_bvals_bvecs\n",
    "\n",
    "bval_file = get_file_path(curr_path, dwi_path, \"*.bvals\")\n",
    "bvec_file = get_file_path(curr_path, dwi_path, \"*.bvecs\")\n",
    "\n",
    "bvals, bvecs = read_bvals_bvecs(bval_file, bvec_file)"
   ]
  },
  {
   "cell_type": "code",
   "execution_count": 5,
   "metadata": {},
   "outputs": [
    {
     "name": "stdout",
     "output_type": "stream",
     "text": [
      "Nb. erroneous voxels: 211474\n"
     ]
    }
   ],
   "source": [
    "resampled_dwi = resample_dwi(mask_dwi(dwi, mask), bvals, bvecs, directions=None, sh_order=8, smooth=0.006)\n",
    "resampled_dwi = 255 * mask_dwi(resampled_dwi, mask)"
   ]
  },
  {
   "cell_type": "markdown",
   "metadata": {},
   "source": [
    "## Load and pre-process tractography data (labels)"
   ]
  },
  {
   "cell_type": "code",
   "execution_count": 7,
   "metadata": {},
   "outputs": [
    {
     "name": "stderr",
     "output_type": "stream",
     "text": [
      "c:\\users\\benou-ai\\appdata\\local\\programs\\python\\python36\\lib\\site-packages\\nibabel\\streamlines\\trk.py:594: HeaderWarning: Field 'vox_to_ras' in the TRK's header was not recorded. Will continue assuming it's the identity.\n",
      "  \" the identity.\"), HeaderWarning)\n"
     ]
    }
   ],
   "source": [
    "tractogram_path = \"./data/tractography\"\n",
    "tractogram_file = get_file_path(curr_path, tractogram_path, \"*.trk\")\n",
    "\n",
    "tractogram_data = streamlines.load(tractogram_file)\n",
    "tractogram = tractogram_data.streamlines"
   ]
  },
  {
   "cell_type": "code",
   "execution_count": 8,
   "metadata": {},
   "outputs": [],
   "source": [
    "# tractogram = align_streamlines_to_grid(tractogram_data, dwi_data)"
   ]
  },
  {
   "cell_type": "markdown",
   "metadata": {},
   "source": [
    "## Prepare data for training"
   ]
  },
  {
   "cell_type": "code",
   "execution_count": 9,
   "metadata": {},
   "outputs": [],
   "source": [
    "from train_utils import *"
   ]
  },
  {
   "cell_type": "code",
   "execution_count": 10,
   "metadata": {},
   "outputs": [],
   "source": [
    "# Calculate the mean DWI value in each volume, to be used later for normalization\n",
    "\n",
    "mask_path = \"./data/WM_mask\"\n",
    "wm_mask_file = get_file_path(curr_path, mask_path, \"*.nii*\")\n",
    "# wm_mask = nib.load(mask_file).get_data()\n",
    "wm_mask = nib.load(wm_mask_file).get_data()[::2,::2,::2]\n",
    "\n",
    "dwi_means = calc_mean_dwi(resampled_dwi, wm_mask)"
   ]
  },
  {
   "cell_type": "code",
   "execution_count": 11,
   "metadata": {},
   "outputs": [],
   "source": [
    "vector_labels = get_geometrical_labels(tractogram)"
   ]
  },
  {
   "cell_type": "code",
   "execution_count": 12,
   "metadata": {},
   "outputs": [],
   "source": [
    "# Apply train-validation split\n",
    "from sklearn.model_selection import train_test_split\n",
    "\n",
    "valid_set_ratio = 0.1\n",
    "X_train, X_valid, y_train, y_valid = train_test_split(tractogram, vector_labels, test_size=valid_set_ratio, random_state=101)"
   ]
  },
  {
   "cell_type": "markdown",
   "metadata": {},
   "source": [
    "## Set DeepTract Network Architecture"
   ]
  },
  {
   "cell_type": "code",
   "execution_count": 13,
   "metadata": {},
   "outputs": [
    {
     "name": "stderr",
     "output_type": "stream",
     "text": [
      "Using TensorFlow backend.\n"
     ]
    }
   ],
   "source": [
    "from Network import get_DeepTract_network"
   ]
  },
  {
   "cell_type": "code",
   "execution_count": 14,
   "metadata": {},
   "outputs": [],
   "source": [
    "# Num of gradient direction in the DWI data\n",
    "grad_directions = resampled_dwi.shape[3]\n",
    "# Num of steps in each batch\n",
    "max_streamline_length = np.max(get_streamlines_lengths(tractogram))\n",
    "N_time_steps = int(max_streamline_length)\n",
    "# Num of neurons at each GRU layer\n",
    "num_neurons = [1000,1000,1000,1000,1000]\n",
    "# Num. of output features (set to Num. possible directions)\n",
    "num_outputs = 725\n",
    "# Whether to use dropout in the net\n",
    "use_dropout = True\n",
    "dropout_prob = 0.3"
   ]
  },
  {
   "cell_type": "code",
   "execution_count": 15,
   "metadata": {},
   "outputs": [],
   "source": [
    "model = get_DeepTract_network(N_time_steps, grad_directions, num_neurons, num_outputs, use_dropout, dropout_prob)"
   ]
  },
  {
   "cell_type": "code",
   "execution_count": 16,
   "metadata": {
    "scrolled": true
   },
   "outputs": [
    {
     "name": "stdout",
     "output_type": "stream",
     "text": [
      "_________________________________________________________________\n",
      "Layer (type)                 Output Shape              Param #   \n",
      "=================================================================\n",
      "masking_1 (Masking)          (None, 339, 100)          0         \n",
      "_________________________________________________________________\n",
      "gru_1 (GRU)                  (None, 339, 1000)         3303000   \n",
      "_________________________________________________________________\n",
      "dropout_1 (Dropout)          (None, 339, 1000)         0         \n",
      "_________________________________________________________________\n",
      "gru_2 (GRU)                  (None, 339, 1000)         6003000   \n",
      "_________________________________________________________________\n",
      "dropout_2 (Dropout)          (None, 339, 1000)         0         \n",
      "_________________________________________________________________\n",
      "gru_3 (GRU)                  (None, 339, 1000)         6003000   \n",
      "_________________________________________________________________\n",
      "dropout_3 (Dropout)          (None, 339, 1000)         0         \n",
      "_________________________________________________________________\n",
      "gru_4 (GRU)                  (None, 339, 1000)         6003000   \n",
      "_________________________________________________________________\n",
      "dropout_4 (Dropout)          (None, 339, 1000)         0         \n",
      "_________________________________________________________________\n",
      "gru_5 (GRU)                  (None, 339, 1000)         6003000   \n",
      "_________________________________________________________________\n",
      "dropout_5 (Dropout)          (None, 339, 1000)         0         \n",
      "_________________________________________________________________\n",
      "time_distributed_1 (TimeDist (None, 339, 725)          725725    \n",
      "=================================================================\n",
      "Total params: 28,040,725\n",
      "Trainable params: 28,040,725\n",
      "Non-trainable params: 0\n",
      "_________________________________________________________________\n"
     ]
    }
   ],
   "source": [
    "model.summary()"
   ]
  },
  {
   "cell_type": "markdown",
   "metadata": {},
   "source": [
    "## Set training parameters"
   ]
  },
  {
   "cell_type": "code",
   "execution_count": 17,
   "metadata": {},
   "outputs": [],
   "source": [
    "from keras.losses import categorical_crossentropy\n",
    "from keras.optimizers import Adam\n",
    "from keras.metrics import top_k_categorical_accuracy, categorical_accuracy\n",
    "from keras.callbacks import EarlyStopping, ReduceLROnPlateau, ModelCheckpoint\n",
    "\n",
    "from os.path import join"
   ]
  },
  {
   "cell_type": "code",
   "execution_count": 18,
   "metadata": {},
   "outputs": [],
   "source": [
    "learning_rate = 1e-5\n",
    "num_epochs = 1\n",
    "BATCH_SIZE = 16 # this will be half of the actual batch size used in training, \n",
    "                # as each batch is augmented inside the trainin_generator"
   ]
  },
  {
   "cell_type": "code",
   "execution_count": 19,
   "metadata": {},
   "outputs": [],
   "source": [
    "optimizer = Adam(lr=learning_rate)\n",
    "loss = categorical_crossentropy\n",
    "model.compile(loss=loss, optimizer=optimizer, metrics=[categorical_accuracy])"
   ]
  },
  {
   "cell_type": "code",
   "execution_count": 20,
   "metadata": {},
   "outputs": [],
   "source": [
    "output_model_path = \"./trained_model\"\n",
    "if not os.path.exists(output_model_path):\n",
    "    os.makedirs(output_model_path)"
   ]
  },
  {
   "cell_type": "code",
   "execution_count": 21,
   "metadata": {},
   "outputs": [],
   "source": [
    "weights_file = join(output_model_path, 'DeepTract_weights.hdf5')\n",
    "callbacks = [EarlyStopping(monitor='val_categorical_accuracy',\n",
    "                           patience=5,\n",
    "                           verbose=1,\n",
    "                           min_delta=1e-5,\n",
    "                           mode='max'),\n",
    "             ReduceLROnPlateau(monitor='val_categorical_accuracy',\n",
    "                               factor=0.5,\n",
    "                               patience=3,\n",
    "                               verbose=1,\n",
    "                               min_delta=1e-5,\n",
    "                               mode='max'),\n",
    "             ModelCheckpoint(monitor='val_categorical_accuracy',\n",
    "                             filepath=weights_file,\n",
    "                             save_best_only=True,\n",
    "                             mode='max')]"
   ]
  },
  {
   "cell_type": "markdown",
   "metadata": {},
   "source": [
    "## Train Network"
   ]
  },
  {
   "cell_type": "code",
   "execution_count": null,
   "metadata": {},
   "outputs": [],
   "source": [
    "train_history = \\\n",
    "model.fit_generator(generator=train_generator(resampled_dwi, X_train, y_train, N_time_steps, num_outputs, BATCH_SIZE, dwi_means),\n",
    "                    steps_per_epoch=np.ceil(float(len(X_train)) / float(BATCH_SIZE)),\n",
    "                    epochs=num_epochs,\n",
    "                    verbose=1,\n",
    "                    callbacks=callbacks,\n",
    "                    validation_data=valid_generator(resampled_dwi, X_valid, y_valid, N_time_steps, num_outputs, BATCH_SIZE, dwi_means),\n",
    "                    validation_steps=np.ceil(float(len(X_valid)) / float(BATCH_SIZE)))"
   ]
  }
 ],
 "metadata": {
  "kernelspec": {
   "display_name": "Python 3",
   "language": "python",
   "name": "python3"
  },
  "language_info": {
   "codemirror_mode": {
    "name": "ipython",
    "version": 3
   },
   "file_extension": ".py",
   "mimetype": "text/x-python",
   "name": "python",
   "nbconvert_exporter": "python",
   "pygments_lexer": "ipython3",
   "version": "3.6.6"
  }
 },
 "nbformat": 4,
 "nbformat_minor": 2
}
